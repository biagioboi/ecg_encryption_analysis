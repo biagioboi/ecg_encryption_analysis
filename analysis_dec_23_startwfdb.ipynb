{
 "cells": [
  {
   "cell_type": "markdown",
   "metadata": {
    "collapsed": false,
    "jupyter": {
     "outputs_hidden": false
    }
   },
   "source": [
    "# ECG-based PUF\n",
    "\n",
    "### 3.2 Data Pre Processing\n",
    "Load the entire dataset and assign to variable ```dict_all_records```."
   ]
  },
  {
   "cell_type": "code",
   "execution_count": null,
   "metadata": {
    "ExecuteTime": {
     "end_time": "2023-12-06T13:36:11.921587Z",
     "start_time": "2023-12-06T13:36:11.502124Z"
    },
    "collapsed": false,
    "jupyter": {
     "outputs_hidden": false
    }
   },
   "outputs": [],
   "source": [
    "import numpy as np\n",
    "import wfdb\n",
    "db_name = \"ecgiddb/\"\n",
    "dict_all_records = dict()\n",
    "f = open(db_name + \"RECORDS\", \"r\")\n",
    "for y in f.readlines():\n",
    "    person = y.split(\"/\")[0].strip()\n",
    "    record = y.split(\"/\")[1].strip()\n",
    "    # The record cannot be duplicate, so we can safely insert it everytime, w/o checking\n",
    "    if person not in dict_all_records:\n",
    "        dict_all_records[person] = {record: wfdb.rdrecord(db_name + person + \"/\" + record, sampfrom=0, channels=[1])}\n",
    "    else:\n",
    "        dict_all_records[person].update({record: wfdb.rdrecord(db_name + person + \"/\" + record, sampfrom=0, channels=[1])})"
   ]
  },
  {
   "cell_type": "markdown",
   "metadata": {
    "collapsed": false,
    "jupyter": {
     "outputs_hidden": false
    }
   },
   "source": [
    "Detect QRS Complex on each signal in order to apply splitting and then proceed with filtering"
   ]
  },
  {
   "cell_type": "code",
   "execution_count": null,
   "metadata": {
    "ExecuteTime": {
     "end_time": "2023-12-06T13:36:34.862464Z",
     "start_time": "2023-12-06T13:36:14.534918Z"
    },
    "collapsed": false,
    "jupyter": {
     "outputs_hidden": false
    }
   },
   "outputs": [],
   "source": [
    "from wfdb import processing\n",
    "dict_all_peaks = dict()\n",
    "for person in dict_all_records:\n",
    "    dict_all_peaks[person] = dict()\n",
    "    for record in dict_all_records[person]:\n",
    "        signal_detected = dict_all_records[person][record]\n",
    "        qrs_inds = processing.qrs.gqrs_detect(sig=signal_detected.p_signal[:,0], fs=signal_detected.fs)\n",
    "        if len(qrs_inds) < 1:\n",
    "            continue\n",
    "        # Correct the peaks shifting them to local maxima\n",
    "        min_bpm = 20\n",
    "        max_bpm = 230\n",
    "        # min_gap = record.fs * 60 / min_bpm\n",
    "        # Use the maximum possible bpm as the search radius\n",
    "        search_radius = int(signal_detected.fs * 60 / max_bpm)\n",
    "        corrected_peak_inds = processing.peaks.correct_peaks(signal_detected.p_signal[:,0], peak_inds=qrs_inds, search_radius=search_radius, smooth_window_size=150)\n",
    "        dict_all_peaks[person][record] = sorted(corrected_peak_inds)"
   ]
  },
  {
   "cell_type": "markdown",
   "metadata": {
    "collapsed": false,
    "jupyter": {
     "outputs_hidden": false
    }
   },
   "source": [
    "Split the signal using the QRS complex, creating windows of 160ms centered at R."
   ]
  },
  {
   "cell_type": "code",
   "execution_count": null,
   "metadata": {
    "ExecuteTime": {
     "end_time": "2023-12-06T13:44:03.905162Z",
     "start_time": "2023-12-06T13:44:01.560432Z"
    },
    "collapsed": false,
    "jupyter": {
     "outputs_hidden": false
    }
   },
   "outputs": [],
   "source": [
    "splitted_signal = dict()\n",
    "for person in dict_all_peaks:\n",
    "    splitted_signal[person] = dict()\n",
    "    for corrected_peak_inds in dict_all_peaks[person]:\n",
    "        splitted_signal[person][corrected_peak_inds] = list()\n",
    "        for r in dict_all_peaks[person][corrected_peak_inds]:\n",
    "            if r<150 or r>9800:\n",
    "                continue\n",
    "            # Get from the original signal, at this point we can apply the noise removal algorithm\n",
    "            current_seq = dict_all_records[person][corrected_peak_inds].p_signal[r-50:r+50].tolist()\n",
    "            splitted_signal[person][corrected_peak_inds].append(current_seq)"
   ]
  },
  {
   "cell_type": "markdown",
   "metadata": {
    "collapsed": false,
    "jupyter": {
     "outputs_hidden": false
    }
   },
   "source": [
    "### Apply filter on signal\n",
    "### Butter filter"
   ]
  },
  {
   "cell_type": "code",
   "execution_count": null,
   "metadata": {
    "ExecuteTime": {
     "end_time": "2023-12-06T13:36:41.443536Z",
     "start_time": "2023-12-06T13:36:41.257629Z"
    },
    "collapsed": false,
    "jupyter": {
     "outputs_hidden": false
    }
   },
   "outputs": [],
   "source": [
    "import matplotlib.pyplot as plt\n",
    "from scipy import signal\n",
    "\n",
    "cutoff_frequency = 20\n",
    "order = 1\n",
    "sampling_rate = 100\n",
    "b, a = signal.butter(order, cutoff_frequency / (sampling_rate / 2), btype='low')\n",
    "filtered_dataset = dict()\n",
    "for person in splitted_signal:\n",
    "    filtered_dataset[person] = dict()\n",
    "    for record in splitted_signal[person]:\n",
    "        filtered_dataset[person][record] = list()\n",
    "        test = splitted_signal[person][record]\n",
    "        # Parsing to a list with single values\n",
    "        for y in test:\n",
    "            current_sign = list()\n",
    "            for z in y:\n",
    "                current_sign.append(z[0])\n",
    "        test_filtered = signal.filtfilt(b, a, current_sign)\n",
    "        filtered_dataset[person][record].append(test_filtered)"
   ]
  },
  {
   "cell_type": "markdown",
   "metadata": {},
   "source": [
    "### No Fileter"
   ]
  },
  {
   "cell_type": "code",
   "execution_count": null,
   "metadata": {
    "ExecuteTime": {
     "end_time": "2023-12-06T13:44:54.165442Z",
     "start_time": "2023-12-06T13:44:54.013479Z"
    },
    "collapsed": false,
    "jupyter": {
     "outputs_hidden": false
    }
   },
   "outputs": [],
   "source": [
    "filtered_dataset = dict()\n",
    "for person in splitted_signal:\n",
    "    filtered_dataset[person] = dict()\n",
    "    for record in splitted_signal[person]:\n",
    "        filtered_dataset[person][record] = list()\n",
    "        test = splitted_signal[person][record]\n",
    "        # Parsing to a list with single values\n",
    "        for y in test:\n",
    "            current_sign = list()\n",
    "            for z in y:\n",
    "                current_sign.append(z[0])\n",
    "            filtered_dataset[person][record].append(current_sign)"
   ]
  },
  {
   "cell_type": "code",
   "execution_count": null,
   "metadata": {
    "ExecuteTime": {
     "end_time": "2023-12-06T13:44:57.223667Z",
     "start_time": "2023-12-06T13:44:55.629437Z"
    },
    "collapsed": false,
    "jupyter": {
     "outputs_hidden": false
    }
   },
   "outputs": [],
   "source": [
    "from sympy import fwht\n",
    "from sympy import fft\n",
    "transformed_dataset = dict()\n",
    "for person in filtered_dataset:\n",
    "    transformed_dataset[person] = dict()\n",
    "    for record in filtered_dataset[person]:\n",
    "        sequences = np.average(filtered_dataset[person][record], axis=0)\n",
    "        transformed_dataset[person][record] = fwht(sequences.ravel().tolist())"
   ]
  },
  {
   "cell_type": "markdown",
   "metadata": {
    "collapsed": false,
    "jupyter": {
     "outputs_hidden": false
    }
   },
   "source": [
    "Create a dataset, where the value of singal are parsed in binary representation"
   ]
  },
  {
   "cell_type": "code",
   "execution_count": null,
   "metadata": {
    "ExecuteTime": {
     "end_time": "2023-12-06T13:45:02.504606Z",
     "start_time": "2023-12-06T13:45:01.032975Z"
    },
    "collapsed": false,
    "jupyter": {
     "outputs_hidden": false
    }
   },
   "outputs": [],
   "source": [
    "import struct\n",
    "dict_binaries = dict()\n",
    "for person in transformed_dataset:\n",
    "    dict_binaries[person] = dict()\n",
    "    for record in transformed_dataset[person]:\n",
    "        final_string = list()\n",
    "        dict_binaries[person][record] = list()\n",
    "        for x in transformed_dataset[person][record]:\n",
    "            final_string.append(''.join('{:0>8b}'.format(c) for c in struct.pack('!f', float(x))))\n",
    "        final_string = ''.join(final_string)\n",
    "        # Insert binary representation as single bit in an array\n",
    "        for y in final_string:\n",
    "            dict_binaries[person][record].append(y)"
   ]
  },
  {
   "cell_type": "markdown",
   "metadata": {},
   "source": [
    " ... or the signal is interpreted as variations ..."
   ]
  },
  {
   "cell_type": "code",
   "execution_count": null,
   "metadata": {
    "ExecuteTime": {
     "end_time": "2023-12-06T13:37:28.660822Z",
     "start_time": "2023-12-06T13:37:28.482235Z"
    },
    "collapsed": false,
    "jupyter": {
     "outputs_hidden": false
    }
   },
   "outputs": [],
   "source": [
    "import struct\n",
    "dict_binaries = dict()\n",
    "for person in transformed_dataset:\n",
    "    dict_binaries[person] = dict()\n",
    "    for record in transformed_dataset[person]:\n",
    "        final_string = list()\n",
    "        dict_binaries[person][record] = list()\n",
    "        len_record = len(transformed_dataset[person][record])\n",
    "        for index, x in enumerate(transformed_dataset[person][record]):\n",
    "            if index != len_record - 1:\n",
    "                if x < transformed_dataset[person][record][index + 1]:\n",
    "                    dict_binaries[person][record].append(1)\n",
    "                else:\n",
    "                    dict_binaries[person][record].append(0)"
   ]
  },
  {
   "cell_type": "code",
   "execution_count": 39,
   "metadata": {
    "ExecuteTime": {
     "end_time": "2023-12-06T13:45:06.759109Z",
     "start_time": "2023-12-06T13:45:04.947876Z"
    },
    "collapsed": false,
    "jupyter": {
     "outputs_hidden": false
    }
   },
   "outputs": [
    {
     "data": {
      "text/html": [
       "<div>\n",
       "<style scoped>\n",
       "    .dataframe tbody tr th:only-of-type {\n",
       "        vertical-align: middle;\n",
       "    }\n",
       "\n",
       "    .dataframe tbody tr th {\n",
       "        vertical-align: top;\n",
       "    }\n",
       "\n",
       "    .dataframe thead th {\n",
       "        text-align: right;\n",
       "    }\n",
       "</style>\n",
       "<table border=\"1\" class=\"dataframe\">\n",
       "  <thead>\n",
       "    <tr style=\"text-align: right;\">\n",
       "      <th></th>\n",
       "      <th>p</th>\n",
       "      <th>r1</th>\n",
       "      <th>r2</th>\n",
       "      <th>dist</th>\n",
       "    </tr>\n",
       "  </thead>\n",
       "  <tbody>\n",
       "    <tr>\n",
       "      <th>0</th>\n",
       "      <td>Person_01</td>\n",
       "      <td>0</td>\n",
       "      <td>1</td>\n",
       "      <td>0.358398</td>\n",
       "    </tr>\n",
       "    <tr>\n",
       "      <th>1</th>\n",
       "      <td>Person_01</td>\n",
       "      <td>0</td>\n",
       "      <td>2</td>\n",
       "      <td>0.369141</td>\n",
       "    </tr>\n",
       "    <tr>\n",
       "      <th>2</th>\n",
       "      <td>Person_01</td>\n",
       "      <td>0</td>\n",
       "      <td>3</td>\n",
       "      <td>0.374756</td>\n",
       "    </tr>\n",
       "    <tr>\n",
       "      <th>3</th>\n",
       "      <td>Person_01</td>\n",
       "      <td>0</td>\n",
       "      <td>4</td>\n",
       "      <td>0.381592</td>\n",
       "    </tr>\n",
       "    <tr>\n",
       "      <th>4</th>\n",
       "      <td>Person_01</td>\n",
       "      <td>0</td>\n",
       "      <td>5</td>\n",
       "      <td>0.358643</td>\n",
       "    </tr>\n",
       "    <tr>\n",
       "      <th>...</th>\n",
       "      <td>...</td>\n",
       "      <td>...</td>\n",
       "      <td>...</td>\n",
       "      <td>...</td>\n",
       "    </tr>\n",
       "    <tr>\n",
       "      <th>806</th>\n",
       "      <td>Person_88</td>\n",
       "      <td>0</td>\n",
       "      <td>1</td>\n",
       "      <td>0.471436</td>\n",
       "    </tr>\n",
       "    <tr>\n",
       "      <th>807</th>\n",
       "      <td>Person_88</td>\n",
       "      <td>0</td>\n",
       "      <td>2</td>\n",
       "      <td>0.486572</td>\n",
       "    </tr>\n",
       "    <tr>\n",
       "      <th>808</th>\n",
       "      <td>Person_88</td>\n",
       "      <td>1</td>\n",
       "      <td>2</td>\n",
       "      <td>0.349121</td>\n",
       "    </tr>\n",
       "    <tr>\n",
       "      <th>809</th>\n",
       "      <td>Person_89</td>\n",
       "      <td>0</td>\n",
       "      <td>1</td>\n",
       "      <td>0.373291</td>\n",
       "    </tr>\n",
       "    <tr>\n",
       "      <th>810</th>\n",
       "      <td>Person_90</td>\n",
       "      <td>0</td>\n",
       "      <td>1</td>\n",
       "      <td>0.412109</td>\n",
       "    </tr>\n",
       "  </tbody>\n",
       "</table>\n",
       "<p>811 rows × 4 columns</p>\n",
       "</div>"
      ],
      "text/plain": [
       "             p  r1  r2      dist\n",
       "0    Person_01   0   1  0.358398\n",
       "1    Person_01   0   2  0.369141\n",
       "2    Person_01   0   3  0.374756\n",
       "3    Person_01   0   4  0.381592\n",
       "4    Person_01   0   5  0.358643\n",
       "..         ...  ..  ..       ...\n",
       "806  Person_88   0   1  0.471436\n",
       "807  Person_88   0   2  0.486572\n",
       "808  Person_88   1   2  0.349121\n",
       "809  Person_89   0   1  0.373291\n",
       "810  Person_90   0   1  0.412109\n",
       "\n",
       "[811 rows x 4 columns]"
      ]
     },
     "execution_count": 39,
     "metadata": {},
     "output_type": "execute_result"
    }
   ],
   "source": [
    "import pandas as pd\n",
    "# Let's compute the fractional Hamming Distance for each pair, only for intra distance\n",
    "all_fhd_dataset = pd.DataFrame(columns=[\"p\", \"r1\", \"r2\", \"dist\"])\n",
    "complex_sum = 0\n",
    "for person in dict_binaries:\n",
    "    list_of_records = list(dict_binaries[person].values())\n",
    "    for index1 in range(0, len(list_of_records) - 1):\n",
    "        for index2 in range(index1 + 1, len(list_of_records)):\n",
    "            first = np.array(list_of_records[index1], dtype=np.float64)\n",
    "            second = np.array(list_of_records[index2], dtype=np.float64)\n",
    "            fhd_ij = np.sum(np.abs(first - second))/len(first) # or second len, it is the same\n",
    "            all_fhd_dataset.loc[len(all_fhd_dataset)] = [person, index1, index2, fhd_ij]\n",
    "\n",
    "all_fhd_dataset"
   ]
  },
  {
   "cell_type": "code",
   "execution_count": null,
   "metadata": {
    "ExecuteTime": {
     "start_time": "2023-12-06T13:45:09.993336Z"
    },
    "collapsed": false,
    "is_executing": true,
    "jupyter": {
     "outputs_hidden": false
    }
   },
   "outputs": [],
   "source": [
    "all_persons = list(dict_binaries.keys())\n",
    "size_all_persons = len(all_persons)\n",
    "all_fhd_dataset_full = pd.DataFrame(columns=[\"p1\", \"p2\", \"r1\", \"r2\", \"dist\"])\n",
    "for index1 in range(0, size_all_persons - 1):\n",
    "    # Per ciascun record della prima persona\n",
    "    for records_index1 in dict_binaries[all_persons[index1]]:\n",
    "        # Confronta il record corrente con tutti i record di tutte le altre persone\n",
    "        for index2 in range(index1 + 1, size_all_persons):\n",
    "            for records_index2 in dict_binaries[all_persons[index2]]:\n",
    "                first = np.array(dict_binaries[all_persons[index1]][records_index1], dtype=np.float64)\n",
    "                second = np.array(dict_binaries[all_persons[index2]][records_index2], dtype=np.float64)\n",
    "                fhd_ij = np.sum(np.abs(first - second))/len(first) # or second len, it is the same\n",
    "                all_fhd_dataset_full.loc[len(all_fhd_dataset_full)] = [all_persons[index1], all_persons[index2], records_index1, records_index2, fhd_ij]\n",
    "all_fhd_dataset_full"
   ]
  },
  {
   "cell_type": "markdown",
   "metadata": {
    "collapsed": false,
    "jupyter": {
     "outputs_hidden": false
    }
   },
   "source": [
    "## Comupte the fHD"
   ]
  },
  {
   "cell_type": "markdown",
   "metadata": {},
   "source": [
    "First, evaluate only over the same day, then we evaluate over all the days of experimentation."
   ]
  },
  {
   "cell_type": "code",
   "execution_count": null,
   "metadata": {
    "ExecuteTime": {
     "end_time": "2023-12-06T13:39:28.254098Z",
     "start_time": "2023-12-06T13:39:28.249832Z"
    },
    "collapsed": false,
    "jupyter": {
     "outputs_hidden": false
    }
   },
   "outputs": [],
   "source": [
    "sameday_records_intra = all_fhd_dataset[all_fhd_dataset['r1'].isin([0, 1]) & all_fhd_dataset['r2'].isin([0, 1])]\n",
    "sameday_records_inter = all_fhd_dataset_full[all_fhd_dataset_full['r1'].isin([\"rec_1\", \"rec_2\"]) & all_fhd_dataset_full['r2'].isin([\"rec_1\", \"rec_2\"])]"
   ]
  },
  {
   "cell_type": "code",
   "execution_count": 81,
   "metadata": {
    "ExecuteTime": {
     "end_time": "2023-12-06T13:39:31.060657Z",
     "start_time": "2023-12-06T13:39:30.454185Z"
    },
    "collapsed": false,
    "jupyter": {
     "outputs_hidden": false
    }
   },
   "outputs": [
    {
     "name": "stderr",
     "output_type": "stream",
     "text": [
      "/var/folders/5k/gnrk6j6x6z79v42dpz2bd76m0000gp/T/ipykernel_60791/3786806980.py:2: UserWarning: \n",
      "\n",
      "`distplot` is a deprecated function and will be removed in seaborn v0.14.0.\n",
      "\n",
      "Please adapt your code to use either `displot` (a figure-level function with\n",
      "similar flexibility) or `kdeplot` (an axes-level function for kernel density plots).\n",
      "\n",
      "For a guide to updating your code to use the new functions, please see\n",
      "https://gist.github.com/mwaskom/de44147ed2974457ad6372750bbe5751\n",
      "\n",
      "  sns.distplot(sameday_records_intra['dist'], hist=False, rug=True)\n",
      "/var/folders/5k/gnrk6j6x6z79v42dpz2bd76m0000gp/T/ipykernel_60791/3786806980.py:3: UserWarning: \n",
      "\n",
      "`distplot` is a deprecated function and will be removed in seaborn v0.14.0.\n",
      "\n",
      "Please adapt your code to use either `displot` (a figure-level function with\n",
      "similar flexibility) or `kdeplot` (an axes-level function for kernel density plots).\n",
      "\n",
      "For a guide to updating your code to use the new functions, please see\n",
      "https://gist.github.com/mwaskom/de44147ed2974457ad6372750bbe5751\n",
      "\n",
      "  sns.distplot(sameday_records_inter['dist'], hist=False, rug=True)\n"
     ]
    },
    {
     "data": {
      "text/plain": [
       "<Axes: xlabel='dist', ylabel='Density'>"
      ]
     },
     "execution_count": 81,
     "metadata": {},
     "output_type": "execute_result"
    },
    {
     "data": {
      "image/png": "[encoded data removed]",
      "text/plain": [
       "<Figure size 640x480 with 1 Axes>"
      ]
     },
     "metadata": {},
     "output_type": "display_data"
    }
   ],
   "source": [
    "import seaborn as sns\n",
    "sns.distplot(sameday_records_intra['dist'], hist=False, rug=True)\n",
    "sns.distplot(sameday_records_inter['dist'], hist=False, rug=True)"
   ]
  },
  {
   "cell_type": "markdown",
   "metadata": {},
   "source": [
    "Evaluate over all the dataset"
   ]
  },
  {
   "cell_type": "code",
   "execution_count": 80,
   "metadata": {
    "ExecuteTime": {
     "end_time": "2023-12-06T13:39:34.554042Z",
     "start_time": "2023-12-06T13:39:33.643234Z"
    },
    "collapsed": false,
    "jupyter": {
     "outputs_hidden": false
    }
   },
   "outputs": [
    {
     "name": "stderr",
     "output_type": "stream",
     "text": [
      "/var/folders/5k/gnrk6j6x6z79v42dpz2bd76m0000gp/T/ipykernel_60791/1126329114.py:1: UserWarning: \n",
      "\n",
      "`distplot` is a deprecated function and will be removed in seaborn v0.14.0.\n",
      "\n",
      "Please adapt your code to use either `displot` (a figure-level function with\n",
      "similar flexibility) or `kdeplot` (an axes-level function for kernel density plots).\n",
      "\n",
      "For a guide to updating your code to use the new functions, please see\n",
      "https://gist.github.com/mwaskom/de44147ed2974457ad6372750bbe5751\n",
      "\n",
      "  sns.distplot(all_fhd_dataset['dist'], hist=False, rug=True)\n",
      "/var/folders/5k/gnrk6j6x6z79v42dpz2bd76m0000gp/T/ipykernel_60791/1126329114.py:2: UserWarning: \n",
      "\n",
      "`distplot` is a deprecated function and will be removed in seaborn v0.14.0.\n",
      "\n",
      "Please adapt your code to use either `displot` (a figure-level function with\n",
      "similar flexibility) or `kdeplot` (an axes-level function for kernel density plots).\n",
      "\n",
      "For a guide to updating your code to use the new functions, please see\n",
      "https://gist.github.com/mwaskom/de44147ed2974457ad6372750bbe5751\n",
      "\n",
      "  sns.distplot(all_fhd_dataset_full['dist'], hist=False, rug=True)\n"
     ]
    },
    {
     "data": {
      "text/plain": [
       "<Axes: xlabel='dist', ylabel='Density'>"
      ]
     },
     "execution_count": 80,
     "metadata": {},
     "output_type": "execute_result"
    },
    {
     "data": {
      "image/png": "[encoded data removed]",
      "text/plain": [
       "<Figure size 640x480 with 1 Axes>"
      ]
     },
     "metadata": {},
     "output_type": "display_data"
    }
   ],
   "source": [
    "sns.distplot(all_fhd_dataset['dist'], hist=False, rug=True)\n",
    "sns.distplot(all_fhd_dataset_full['dist'], hist=False, rug=True)"
   ]
  },
  {
   "cell_type": "markdown",
   "metadata": {},
   "source": [
    "### Compute the uniqueness"
   ]
  },
  {
   "cell_type": "code",
   "execution_count": 44,
   "metadata": {
    "scrolled": true
   },
   "outputs": [
    {
     "name": "stderr",
     "output_type": "stream",
     "text": [
      "/var/folders/5k/gnrk6j6x6z79v42dpz2bd76m0000gp/T/ipykernel_60791/221893138.py:7: UserWarning: \n",
      "\n",
      "`distplot` is a deprecated function and will be removed in seaborn v0.14.0.\n",
      "\n",
      "Please adapt your code to use either `displot` (a figure-level function with\n",
      "similar flexibility) or `histplot` (an axes-level function for histograms).\n",
      "\n",
      "For a guide to updating your code to use the new functions, please see\n",
      "https://gist.github.com/mwaskom/de44147ed2974457ad6372750bbe5751\n",
      "\n",
      "  sns.distplot(tot_uniq, hist=True, rug=True)\n"
     ]
    },
    {
     "data": {
      "text/plain": [
       "<Axes: ylabel='Density'>"
      ]
     },
     "execution_count": 44,
     "metadata": {},
     "output_type": "execute_result"
    },
    {
     "data": {
      "image/png": "[encoded data removed]",
      "text/plain": [
       "<Figure size 640x480 with 1 Axes>"
      ]
     },
     "metadata": {},
     "output_type": "display_data"
    }
   ],
   "source": [
    "tot_uniq = list()\n",
    "for y in dict_all_records['Person_01']:\n",
    "    single_val = all_fhd_dataset_full[all_fhd_dataset_full['r1'].isin([y]) & all_fhd_dataset_full['r2'].isin([y])]\n",
    "    tot_sum = np.sum(single_val['dist'])\n",
    "    uniqueness = 1/len(single_val) * tot_sum \n",
    "    tot_uniq.append(uniqueness)\n",
    "sns.distplot(tot_uniq, hist=True, rug=True)"
   ]
  },
  {
   "cell_type": "markdown",
   "metadata": {},
   "source": [
    "### Compute the Stability"
   ]
  },
  {
   "cell_type": "code",
   "execution_count": 62,
   "metadata": {},
   "outputs": [
    {
     "name": "stderr",
     "output_type": "stream",
     "text": [
      "/var/folders/5k/gnrk6j6x6z79v42dpz2bd76m0000gp/T/ipykernel_60791/156814753.py:5: RuntimeWarning: invalid value encountered in scalar divide\n",
      "  single_sum = np.sum(stab_ofperson['dist']) / len(stab_ofperson)\n",
      "/var/folders/5k/gnrk6j6x6z79v42dpz2bd76m0000gp/T/ipykernel_60791/156814753.py:8: UserWarning: \n",
      "\n",
      "`distplot` is a deprecated function and will be removed in seaborn v0.14.0.\n",
      "\n",
      "Please adapt your code to use either `displot` (a figure-level function with\n",
      "similar flexibility) or `histplot` (an axes-level function for histograms).\n",
      "\n",
      "For a guide to updating your code to use the new functions, please see\n",
      "https://gist.github.com/mwaskom/de44147ed2974457ad6372750bbe5751\n",
      "\n",
      "  sns.distplot(tot_stab, hist=True, rug=True)\n"
     ]
    },
    {
     "data": {
      "text/plain": [
       "<Axes: ylabel='Density'>"
      ]
     },
     "execution_count": 62,
     "metadata": {},
     "output_type": "execute_result"
    },
    {
     "data": {
      "image/png": "[encoded data removed]",
      "text/plain": [
       "<Figure size 640x480 with 1 Axes>"
      ]
     },
     "metadata": {},
     "output_type": "display_data"
    }
   ],
   "source": [
    "import math\n",
    "tot_stab = list()\n",
    "for person in dict_all_records:\n",
    "    stab_ofperson = all_fhd_dataset[all_fhd_dataset['p'] == person]\n",
    "    single_sum = np.sum(stab_ofperson['dist']) / len(stab_ofperson)\n",
    "    if not math.isnan(single_sum):\n",
    "        tot_stab.append(single_sum)\n",
    "sns.distplot(tot_stab, hist=True, rug=True)"
   ]
  },
  {
   "cell_type": "markdown",
   "metadata": {},
   "source": [
    "### Uniformity"
   ]
  },
  {
   "cell_type": "code",
   "execution_count": 68,
   "metadata": {},
   "outputs": [
    {
     "name": "stderr",
     "output_type": "stream",
     "text": [
      "/var/folders/5k/gnrk6j6x6z79v42dpz2bd76m0000gp/T/ipykernel_60791/4168449640.py:9: UserWarning: \n",
      "\n",
      "`distplot` is a deprecated function and will be removed in seaborn v0.14.0.\n",
      "\n",
      "Please adapt your code to use either `displot` (a figure-level function with\n",
      "similar flexibility) or `histplot` (an axes-level function for histograms).\n",
      "\n",
      "For a guide to updating your code to use the new functions, please see\n",
      "https://gist.github.com/mwaskom/de44147ed2974457ad6372750bbe5751\n",
      "\n",
      "  sns.distplot(tot_unif, hist=True, rug=True)\n"
     ]
    },
    {
     "data": {
      "text/plain": [
       "<Axes: ylabel='Density'>"
      ]
     },
     "execution_count": 68,
     "metadata": {},
     "output_type": "execute_result"
    },
    {
     "data": {
      "image/png": "[encoded data removed]",
      "text/plain": [
       "<Figure size 640x480 with 1 Axes>"
      ]
     },
     "metadata": {},
     "output_type": "display_data"
    }
   ],
   "source": [
    "tot_unif = list()\n",
    "for person in dict_all_records:\n",
    "    current = dict_binaries[person]['rec_1']\n",
    "    tot_ones = 0\n",
    "    for x in current:\n",
    "        if x == '1':\n",
    "            tot_ones += 1\n",
    "    tot_unif.append(tot_ones/len(current))\n",
    "sns.distplot(tot_unif, hist=True, rug=True)"
   ]
  },
  {
   "cell_type": "markdown",
   "metadata": {},
   "source": [
    "### Entropy"
   ]
  },
  {
   "cell_type": "code",
   "execution_count": 79,
   "metadata": {},
   "outputs": [
    {
     "name": "stdout",
     "output_type": "stream",
     "text": [
      "0.7143133663815407\n"
     ]
    }
   ],
   "source": [
    "tot_sum = 0\n",
    "for x in range(0, len(dict_binaries['Person_01']['rec_1'])):\n",
    "    sum_current = 0\n",
    "    for person in dict_binaries:\n",
    "        sum_current += int(dict_binaries[person]['rec_1'][x])\n",
    "    p_logic_1 = sum_current/len(dict_binaries)\n",
    "    p_logic_0 = 1 - p_logic_1\n",
    "    tot_sum -= math.log2(max(p_logic_1, p_logic_0))\n",
    "print(tot_sum/len(dict_binaries['Person_01']['rec_1']))"
   ]
  }
 ],
 "metadata": {
  "kernelspec": {
   "display_name": "Python 3 (ipykernel)",
   "language": "python",
   "name": "python3"
  },
  "language_info": {
   "codemirror_mode": {
    "name": "ipython",
    "version": 3
   },
   "file_extension": ".py",
   "mimetype": "text/x-python",
   "name": "python",
   "nbconvert_exporter": "python",
   "pygments_lexer": "ipython3",
   "version": "3.11.5"
  }
 },
 "nbformat": 4,
 "nbformat_minor": 4
}
